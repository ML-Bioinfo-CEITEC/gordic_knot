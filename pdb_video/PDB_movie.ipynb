{
 "cells": [
  {
   "cell_type": "code",
   "execution_count": 1,
   "id": "e6c70ef9-0f3f-4ce4-b798-580d0bd8e75d",
   "metadata": {},
   "outputs": [],
   "source": [
    "import os\n",
    "from Bio import PDB\n",
    "from Bio.PDB.Superimposer import Superimposer\n",
    "import pymol\n",
    "import moviepy.editor as mpy"
   ]
  },
  {
   "cell_type": "code",
   "execution_count": 2,
   "id": "b518e890-a16c-4ea4-b485-65d5b9320afe",
   "metadata": {},
   "outputs": [],
   "source": [
    "def align_structures(ref_structure, sample_structure):\n",
    "    ref_atoms = []\n",
    "    sample_atoms = []\n",
    "\n",
    "    for ref_model in ref_structure:\n",
    "        for ref_chain in ref_model:\n",
    "            for ref_res in ref_chain:\n",
    "                if ref_res.get_id()[0] == ' ':  # Check if it's not a hetero-atom\n",
    "                    ref_atoms.append(ref_res['CA'])\n",
    "\n",
    "    for sample_model in sample_structure:\n",
    "        for sample_chain in sample_model:\n",
    "            for sample_res in sample_chain:\n",
    "                if sample_res.get_id()[0] == ' ':\n",
    "                    sample_atoms.append(sample_res['CA'])\n",
    "\n",
    "    super_imposer = Superimposer()\n",
    "    super_imposer.set_atoms(ref_atoms, sample_atoms)\n",
    "    super_imposer.apply(sample_structure.get_atoms())"
   ]
  },
  {
   "cell_type": "code",
   "execution_count": 3,
   "id": "f6e0c47c-9b92-4da8-a3bd-2d8419a40966",
   "metadata": {},
   "outputs": [
    {
     "data": {
      "text/plain": [
       "1000"
      ]
     },
     "execution_count": 3,
     "metadata": {},
     "output_type": "execute_result"
    }
   ],
   "source": [
    "from pathlib import Path\n",
    "\n",
    "directory = Path('pdbs')\n",
    "pattern = 'generated_0_timestep_'\n",
    "matching_files = [f for f in directory.glob(f'{pattern}*.pdb')]\n",
    "\n",
    "len(matching_files)"
   ]
  },
  {
   "cell_type": "code",
   "execution_count": 4,
   "id": "b6678287-d32c-4117-baeb-aa70d68331ac",
   "metadata": {},
   "outputs": [
    {
     "data": {
      "text/plain": [
       "1000"
      ]
     },
     "execution_count": 4,
     "metadata": {},
     "output_type": "execute_result"
    }
   ],
   "source": [
    "filtered_files = []\n",
    "for file in matching_files:\n",
    "    try:\n",
    "        # Extract the number part from the filename\n",
    "        number = int(file.stem[len(pattern):])\n",
    "        if 0 <= number <= 999:\n",
    "            filtered_files.append((number, file.name))\n",
    "    except ValueError:\n",
    "        continue\n",
    "len(filtered_files)"
   ]
  },
  {
   "cell_type": "code",
   "execution_count": 5,
   "id": "19a39bba-25d4-45ee-9f3d-3d8e05ac8a68",
   "metadata": {},
   "outputs": [
    {
     "data": {
      "text/plain": [
       "[(0, 'generated_0_timestep_0.pdb'),\n",
       " (1, 'generated_0_timestep_1.pdb'),\n",
       " (2, 'generated_0_timestep_2.pdb'),\n",
       " (3, 'generated_0_timestep_3.pdb'),\n",
       " (4, 'generated_0_timestep_4.pdb'),\n",
       " (5, 'generated_0_timestep_5.pdb'),\n",
       " (6, 'generated_0_timestep_6.pdb'),\n",
       " (7, 'generated_0_timestep_7.pdb'),\n",
       " (8, 'generated_0_timestep_8.pdb'),\n",
       " (9, 'generated_0_timestep_9.pdb')]"
      ]
     },
     "execution_count": 5,
     "metadata": {},
     "output_type": "execute_result"
    }
   ],
   "source": [
    "filtered_files.sort()\n",
    "sorted_filenames = [file[1] for file in filtered_files]\n",
    "filtered_files[:10]"
   ]
  },
  {
   "cell_type": "code",
   "execution_count": 61,
   "id": "48e64522-093b-47c7-8b7f-7f4559c812d1",
   "metadata": {},
   "outputs": [],
   "source": [
    "pdb_files = sorted_filenames[-60:]"
   ]
  },
  {
   "cell_type": "code",
   "execution_count": 62,
   "id": "ee7ed32a-e7e5-459c-85dc-4be258d5e5b1",
   "metadata": {},
   "outputs": [],
   "source": [
    "parser = PDB.PDBParser()\n",
    "ref_structure = parser.get_structure(\"reference\", directory / pdb_files[0])"
   ]
  },
  {
   "cell_type": "code",
   "execution_count": 63,
   "id": "7d28bce3-d47d-497a-b8a9-01ad6ec54080",
   "metadata": {},
   "outputs": [],
   "source": [
    "aligned_files = [directory / pdb_files[0]]\n",
    "\n",
    "for i, pdb_file in enumerate(pdb_files[1:], start=1):\n",
    "        sample_structure = parser.get_structure(f\"sample_{i}\", directory / pdb_file)\n",
    "        align_structures(ref_structure, sample_structure)\n",
    "        \n",
    "        # Save aligned structure\n",
    "        io = PDB.PDBIO()\n",
    "        io.set_structure(sample_structure)\n",
    "        aligned_pdb = directory / f\"aligned_{i}.pdb\"\n",
    "        io.save(str(aligned_pdb))\n",
    "        aligned_files.append(aligned_pdb)"
   ]
  },
  {
   "cell_type": "code",
   "execution_count": 64,
   "id": "984a37f3-5883-457a-9077-ed2aaa22d001",
   "metadata": {},
   "outputs": [],
   "source": [
    "    pymol.cmd.reinitialize()\n",
    "    pymol.cmd.load(directory / pdb_files[0], \"reference\")\n",
    "    pymol.cmd.zoom()\n",
    "    pymol.cmd.center(\"reference\")\n",
    "    view = pymol.cmd.get_view()"
   ]
  },
  {
   "cell_type": "code",
   "execution_count": 65,
   "id": "af588c45-14da-445a-a26b-db40f0418be1",
   "metadata": {},
   "outputs": [],
   "source": [
    "    frames = []\n",
    "    for pdb_file in aligned_files:\n",
    "\n",
    "        pymol.cmd.reinitialize()\n",
    "        pymol.cmd.load(pdb_file, \"protein\")\n",
    "        pymol.cmd.set_view(view)  # Apply the same view for all structures\n",
    "        pymol.cmd.rotate('y', 3 * len(frames))  # Cumulative rotation\n",
    "        frame_name = f'frames/frame_{len(frames)}.png'\n",
    "        pymol.cmd.png(frame_name)\n",
    "        frames.append(frame_name)\n",
    "        \n",
    "        \n",
    "        "
   ]
  },
  {
   "cell_type": "code",
   "execution_count": 66,
   "id": "ff86283c-9e7d-4810-af76-afcc75b1bc24",
   "metadata": {},
   "outputs": [
    {
     "name": "stdout",
     "output_type": "stream",
     "text": [
      "Moviepy - Building video ./pokus.mp4.\n",
      "Moviepy - Writing video ./pokus.mp4\n",
      "\n"
     ]
    },
    {
     "name": "stderr",
     "output_type": "stream",
     "text": [
      "                                                                                \r"
     ]
    },
    {
     "name": "stdout",
     "output_type": "stream",
     "text": [
      "Moviepy - Done !\n",
      "Moviepy - video ready ./pokus.mp4\n"
     ]
    }
   ],
   "source": [
    "output_file = \"./pokus.mp4\"\n",
    "\n",
    "clip = mpy.ImageSequenceClip(frames, fps=4)\n",
    "clip.write_videofile(output_file) if output_file.endswith('.mp4') else clip.write_gif(output_file)"
   ]
  },
  {
   "cell_type": "code",
   "execution_count": 67,
   "id": "719ff89e-6732-40b9-b132-149be2cb95ef",
   "metadata": {},
   "outputs": [
    {
     "data": {
      "text/plain": [
       "60"
      ]
     },
     "execution_count": 67,
     "metadata": {},
     "output_type": "execute_result"
    }
   ],
   "source": [
    "len(frames)"
   ]
  },
  {
   "cell_type": "code",
   "execution_count": null,
   "id": "b25e4ecc-0a04-487c-8e6e-13367122821d",
   "metadata": {},
   "outputs": [],
   "source": []
  }
 ],
 "metadata": {
  "kernelspec": {
   "display_name": "Python 3 (ipykernel)",
   "language": "python",
   "name": "python3"
  },
  "language_info": {
   "codemirror_mode": {
    "name": "ipython",
    "version": 3
   },
   "file_extension": ".py",
   "mimetype": "text/x-python",
   "name": "python",
   "nbconvert_exporter": "python",
   "pygments_lexer": "ipython3",
   "version": "3.12.4"
  }
 },
 "nbformat": 4,
 "nbformat_minor": 5
}
